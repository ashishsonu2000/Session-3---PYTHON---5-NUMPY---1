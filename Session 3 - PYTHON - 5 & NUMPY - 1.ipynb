{
 "cells": [
  {
   "cell_type": "markdown",
   "metadata": {},
   "source": [
    "# Session 3"
   ]
  },
  {
   "cell_type": "markdown",
   "metadata": {},
   "source": [
    "## Task 1"
   ]
  },
  {
   "cell_type": "markdown",
   "metadata": {},
   "source": [
    "### Write a function to compute 5/0 and use try/except to catch the exceptions."
   ]
  },
  {
   "cell_type": "markdown",
   "metadata": {},
   "source": [
    "#### 1"
   ]
  },
  {
   "cell_type": "code",
   "execution_count": 7,
   "metadata": {},
   "outputs": [
    {
     "name": "stdout",
     "output_type": "stream",
     "text": [
      "Division by zero not allowed\n"
     ]
    }
   ],
   "source": [
    "def calculate():\n",
    "    try:\n",
    "        5/0\n",
    "    except ZeroDivisionError:\n",
    "        print(\"Division by zero not allowed\")\n",
    "\n",
    "calculate()"
   ]
  },
  {
   "cell_type": "markdown",
   "metadata": {},
   "source": [
    "### Implement a Python program to generate all sentences where subject is in\n",
    "\n",
    "[\"Americans\",\"Indians\"] and verb is in [\"Play\", \"watch\"] and the object is in [\"Baseball\",\"cricket\"].\n",
    "\n",
    "Hint: Subject,Verb and Object should be declared in the program as shown below.\n",
    "\n",
    "subjects=[\"Americans \",\"Indians\"] <br>\n",
    "verbs=[\"play\",\"watch\"]<br>\n",
    "objects=[\"Baseball\",\"Cricket\"]\n",
    "\n",
    "\n",
    "#### Output should come as below:\n",
    "\n",
    "Americans play Baseball.<br>\n",
    "Americans play Cricket.<br>\n",
    "Americans watch Baseball.<br>\n",
    "Americans watch Cricket.<br>\n",
    "Indians play Baseball.<br>\n",
    "Indians play Cricket.<br>\n",
    "Indians watch Baseball.<br>\n",
    "Indians watch Cricket."
   ]
  },
  {
   "cell_type": "markdown",
   "metadata": {},
   "source": [
    "#### 2"
   ]
  },
  {
   "cell_type": "code",
   "execution_count": 41,
   "metadata": {},
   "outputs": [
    {
     "name": "stdout",
     "output_type": "stream",
     "text": [
      "Americans play Baseball\n",
      "Americans play Cricket\n",
      "Americans watch Baseball\n",
      "Americans watch Cricket\n",
      "Indians play Baseball\n",
      "Indians play Cricket\n",
      "Indians watch Baseball\n",
      "Indians watch Cricket\n"
     ]
    }
   ],
   "source": [
    "import numpy as np\n",
    "\n",
    "subjects = ['Americans','Indians']\n",
    "verbs = ['play','watch']\n",
    "objects = ['Baseball','Cricket']\n",
    "\n",
    "output = np.array([subjects,verbs,objects],dtype=np.str)\n",
    "\n",
    "print(output[0][0] , output[1][0],output[2][0])\n",
    "print(output[0][0] , output[1][0],output[2][1])\n",
    "print(output[0][0] , output[1][1],output[2][0])\n",
    "print(output[0][0] , output[1][1],output[2][1])\n",
    "\n",
    "print(output[0][1] , output[1][0],output[2][0])\n",
    "print(output[0][1] , output[1][0],output[2][1])\n",
    "print(output[0][1] , output[1][1],output[2][0])\n",
    "print(output[0][1] , output[1][1],output[2][1])"
   ]
  },
  {
   "cell_type": "markdown",
   "metadata": {},
   "source": [
    "## Task 2"
   ]
  },
  {
   "cell_type": "markdown",
   "metadata": {},
   "source": [
    "#### 1\n",
    "\n",
    "Write a function so that the columns of the output matrix are powers of the input vector.\n",
    "The order of the powers is determined by the increasing boolean argument. Specifically, when\n",
    "increasing is False, the i-th output column is the input vector raised element-wise to the power\n",
    "of N - i - 1.\n",
    "\n",
    "HINT: Such a matrix with a geometric progression in each row is named for Alexandre-\n",
    "Theophile Vandermonde.\n"
   ]
  },
  {
   "cell_type": "code",
   "execution_count": 54,
   "metadata": {},
   "outputs": [
    {
     "name": "stdout",
     "output_type": "stream",
     "text": [
      "Alexandre- Theophile Vandermonde. \n",
      "\n",
      " [[  1   1   1   1]\n",
      " [  8   4   2   1]\n",
      " [ 27   9   3   1]\n",
      " [125  25   5   1]]\n"
     ]
    }
   ],
   "source": [
    "x = np.array([1, 2, 3, 5])\n",
    "N = 4\n",
    "matrix = np.column_stack([x**(N-1-i) for i in range(N)])\n",
    "print('Alexandre- Theophile Vandermonde. \\n\\n', matrix)"
   ]
  },
  {
   "cell_type": "code",
   "execution_count": null,
   "metadata": {},
   "outputs": [],
   "source": []
  }
 ],
 "metadata": {
  "kernelspec": {
   "display_name": "Python 3",
   "language": "python",
   "name": "python3"
  },
  "language_info": {
   "codemirror_mode": {
    "name": "ipython",
    "version": 3
   },
   "file_extension": ".py",
   "mimetype": "text/x-python",
   "name": "python",
   "nbconvert_exporter": "python",
   "pygments_lexer": "ipython3",
   "version": "3.7.0"
  }
 },
 "nbformat": 4,
 "nbformat_minor": 2
}
